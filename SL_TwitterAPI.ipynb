{
 "nbformat": 4,
 "nbformat_minor": 2,
 "metadata": {
  "language_info": {
   "name": "python",
   "codemirror_mode": {
    "name": "ipython",
    "version": 3
   },
   "version": "3.7.4"
  },
  "orig_nbformat": 2,
  "file_extension": ".py",
  "mimetype": "text/x-python",
  "name": "python",
  "npconvert_exporter": "python",
  "pygments_lexer": "ipython3",
  "version": 3
 },
 "cells": [
  {
   "cell_type": "code",
   "metadata": {},
   "outputs": [],
   "source": [
    "!pip install tweepy"
   ]
  },
  {
   "cell_type": "code",
   "metadata": {},
   "outputs": [],
   "source": [
    "!pip install basilica"
   ]
  },
  {
   "cell_type": "code",
   "metadata": {},
   "outputs": [],
   "source": [
    "import tweepy, basilica"
   ]
  },
  {
   "cell_type": "code",
   "execution_count": 4,
   "metadata": {},
   "outputs": [],
   "source": [
    "# Keys from Twitter\n",
    "TWITTER_CONSUMER_API_KEY = 'F03zdGnBNsbGaTbaMUFRSaYyu'\n",
    "TWITTER_CONSUMER_API_SECRET = 'sIwAMY1xLVNAYsMkvifGVzJ3Qdln1JNA9O9tEOTM6JnaHyERZ8'\n",
    "TWITTER_ACCESS_TOKEN = '1692094380-UBWMv8nxztztSLqcwPf5i3wSzfLCYQpsaZ2wXpI'\n",
    "TWITTER_ACCESS_TOKEN_SECRET = 'LhocHKzkrWEMrVpK66ufqhUCg9yfrU7JMdyJLWJbJvqre'\n",
    "\n",
    "# Key from Basilica\n",
    "BASILICA_KEY = 'c4041eac-a1a0-f32b-b3d1-dca840ce0626'"
   ]
  },
  {
   "source": [
    "dir(TWITTER)"
   ],
   "cell_type": "code",
   "outputs": [
    {
     "output_type": "execute_result",
     "data": {
      "text/plain": "['__class__',\n '__delattr__',\n '__dict__',\n '__dir__',\n '__doc__',\n '__eq__',\n '__format__',\n '__ge__',\n '__getattribute__',\n '__gt__',\n '__hash__',\n '__init__',\n '__init_subclass__',\n '__le__',\n '__lt__',\n '__module__',\n '__ne__',\n '__new__',\n '__reduce__',\n '__reduce_ex__',\n '__repr__',\n '__setattr__',\n '__sizeof__',\n '__str__',\n '__subclasshook__',\n '__weakref__',\n '_add_list_members',\n '_lookup_friendships',\n '_lookup_users',\n '_pack_image',\n '_remove_list_members',\n '_send_direct_message',\n '_statuses_lookup',\n 'add_list_member',\n 'add_list_members',\n 'api_root',\n 'auth',\n 'blocks',\n 'blocks_ids',\n 'cache',\n 'compression',\n 'configuration',\n 'create_block',\n 'create_favorite',\n 'create_friendship',\n 'create_list',\n 'create_mute',\n 'create_saved_search',\n 'destroy_block',\n 'destroy_direct_message',\n 'destroy_favorite',\n 'destroy_friendship',\n 'destroy_list',\n 'destroy_mute',\n 'destroy_saved_search',\n 'destroy_status',\n 'favorites',\n 'followers',\n 'followers_ids',\n 'friends',\n 'friends_ids',\n 'friendships_incoming',\n 'friendships_outgoing',\n 'geo_id',\n 'geo_search',\n 'geo_similar_places',\n 'get_direct_message',\n 'get_list',\n 'get_oembed',\n 'get_saved_search',\n 'get_settings',\n 'get_status',\n 'get_user',\n 'home_timeline',\n 'host',\n 'list_direct_messages',\n 'list_members',\n 'list_subscribers',\n 'list_timeline',\n 'lists_all',\n 'lists_memberships',\n 'lists_subscriptions',\n 'lookup_friendships',\n 'lookup_users',\n 'me',\n 'media_upload',\n 'mentions_timeline',\n 'mutes',\n 'mutes_ids',\n 'parser',\n 'proxy',\n 'rate_limit_status',\n 'related_results',\n 'remove_list_member',\n 'remove_list_members',\n 'report_spam',\n 'retry_count',\n 'retry_delay',\n 'retry_errors',\n 'retweet',\n 'retweeters',\n 'retweets',\n 'retweets_of_me',\n 'reverse_geocode',\n 'saved_searches',\n 'search',\n 'search_host',\n 'search_root',\n 'search_users',\n 'send_direct_message',\n 'set_settings',\n 'show_friendship',\n 'show_list_member',\n 'show_list_subscriber',\n 'statuses_lookup',\n 'subscribe_list',\n 'supported_languages',\n 'timeout',\n 'trends_available',\n 'trends_closest',\n 'trends_place',\n 'unretweet',\n 'unsubscribe_list',\n 'update_list',\n 'update_profile',\n 'update_profile_background_image',\n 'update_profile_banner',\n 'update_profile_image',\n 'update_status',\n 'update_with_media',\n 'upload_host',\n 'upload_root',\n 'user_timeline',\n 'verify_credentials',\n 'wait_on_rate_limit',\n 'wait_on_rate_limit_notify']"
     },
     "metadata": {},
     "execution_count": 6
    }
   ],
   "metadata": {},
   "execution_count": 6
  },
  {
   "source": [
    "twitter_user = TWITTER.get_user('')\n",
    "twitter_user"
   ],
   "cell_type": "code",
   "outputs": [
    {
     "output_type": "execute_result",
     "data": {
      "text/plain": "User(_api=<tweepy.api.API object at 0x0000018BD44564C8>, _json={'id': 44196397, 'id_str': '44196397', 'name': 'Elon Musk', 'screen_name': 'elonmusk', 'location': '', 'profile_location': None, 'description': '', 'url': None, 'entities': {'description': {'urls': []}}, 'protected': False, 'followers_count': 30108608, 'friends_count': 82, 'listed_count': 52508, 'created_at': 'Tue Jun 02 20:12:29 +0000 2009', 'favourites_count': 4436, 'utc_offset': None, 'time_zone': None, 'geo_enabled': False, 'verified': True, 'statuses_count': 9443, 'lang': None, 'status': {'created_at': 'Tue Dec 17 22:59:37 +0000 2019', 'id': 1207072889318465542, 'id_str': '1207072889318465542', 'text': '@AlexSibila @Tesla Some good ideas here!', 'truncated': False, 'entities': {'hashtags': [], 'symbols': [], 'user_mentions': [{'screen_name': 'AlexSibila', 'name': 'Alex Sibila', 'id': 113761627, 'id_str': '113761627', 'indices': [0, 11]}, {'screen_name': 'Tesla', 'name': 'Tesla', 'id': 13298072, 'id_str': '13298072', 'indices': [12, 18]}], 'urls': []}, 'source': '<a href=\"http://twitter.com/download/iphone\" rel=\"nofollow\">Twitter for iPhone</a>', 'in_reply_to_status_id': 1199424478536753155, 'in_reply_to_status_id_str': '1199424478536753155', 'in_reply_to_user_id': 113761627, 'in_reply_to_user_id_str': '113761627', 'in_reply_to_screen_name': 'AlexSibila', 'geo': None, 'coordinates': None, 'place': None, 'contributors': None, 'is_quote_status': False, 'retweet_count': 17, 'favorite_count': 235, 'favorited': False, 'retweeted': False, 'lang': 'en'}, 'contributors_enabled': False, 'is_translator': False, 'is_translation_enabled': False, 'profile_background_color': 'C0DEED', 'profile_background_image_url': 'http://abs.twimg.com/images/themes/theme1/bg.png', 'profile_background_image_url_https': 'https://abs.twimg.com/images/themes/theme1/bg.png', 'profile_background_tile': False, 'profile_image_url': 'http://pbs.twimg.com/profile_images/1205226947346722817/veJLfnPs_normal.jpg', 'profile_image_url_https': 'https://pbs.twimg.com/profile_images/1205226947346722817/veJLfnPs_normal.jpg', 'profile_banner_url': 'https://pbs.twimg.com/profile_banners/44196397/1576183471', 'profile_link_color': '0084B4', 'profile_sidebar_border_color': 'C0DEED', 'profile_sidebar_fill_color': 'DDEEF6', 'profile_text_color': '333333', 'profile_use_background_image': True, 'has_extended_profile': True, 'default_profile': False, 'default_profile_image': False, 'can_media_tag': True, 'followed_by': False, 'following': False, 'follow_request_sent': False, 'notifications': False, 'translator_type': 'none'}, id=44196397, id_str='44196397', name='Elon Musk', screen_name='elonmusk', location='', profile_location=None, description='', url=None, entities={'description': {'urls': []}}, protected=False, followers_count=30108608, friends_count=82, listed_count=52508, created_at=datetime.datetime(2009, 6, 2, 20, 12, 29), favourites_count=4436, utc_offset=None, time_zone=None, geo_enabled=False, verified=True, statuses_count=9443, lang=None, status=Status(_api=<tweepy.api.API object at 0x0000018BD44564C8>, _json={'created_at': 'Tue Dec 17 22:59:37 +0000 2019', 'id': 1207072889318465542, 'id_str': '1207072889318465542', 'text': '@AlexSibila @Tesla Some good ideas here!', 'truncated': False, 'entities': {'hashtags': [], 'symbols': [], 'user_mentions': [{'screen_name': 'AlexSibila', 'name': 'Alex Sibila', 'id': 113761627, 'id_str': '113761627', 'indices': [0, 11]}, {'screen_name': 'Tesla', 'name': 'Tesla', 'id': 13298072, 'id_str': '13298072', 'indices': [12, 18]}], 'urls': []}, 'source': '<a href=\"http://twitter.com/download/iphone\" rel=\"nofollow\">Twitter for iPhone</a>', 'in_reply_to_status_id': 1199424478536753155, 'in_reply_to_status_id_str': '1199424478536753155', 'in_reply_to_user_id': 113761627, 'in_reply_to_user_id_str': '113761627', 'in_reply_to_screen_name': 'AlexSibila', 'geo': None, 'coordinates': None, 'place': None, 'contributors': None, 'is_quote_status': False, 'retweet_count': 17, 'favorite_count': 235, 'favorited': False, 'retweeted': False, 'lang': 'en'}, created_at=datetime.datetime(2019, 12, 17, 22, 59, 37), id=1207072889318465542, id_str='1207072889318465542', text='@AlexSibila @Tesla Some good ideas here!', truncated=False, entities={'hashtags': [], 'symbols': [], 'user_mentions': [{'screen_name': 'AlexSibila', 'name': 'Alex Sibila', 'id': 113761627, 'id_str': '113761627', 'indices': [0, 11]}, {'screen_name': 'Tesla', 'name': 'Tesla', 'id': 13298072, 'id_str': '13298072', 'indices': [12, 18]}], 'urls': []}, source='Twitter for iPhone', source_url='http://twitter.com/download/iphone', in_reply_to_status_id=1199424478536753155, in_reply_to_status_id_str='1199424478536753155', in_reply_to_user_id=113761627, in_reply_to_user_id_str='113761627', in_reply_to_screen_name='AlexSibila', geo=None, coordinates=None, place=None, contributors=None, is_quote_status=False, retweet_count=17, favorite_count=235, favorited=False, retweeted=False, lang='en'), contributors_enabled=False, is_translator=False, is_translation_enabled=False, profile_background_color='C0DEED', profile_background_image_url='http://abs.twimg.com/images/themes/theme1/bg.png', profile_background_image_url_https='https://abs.twimg.com/images/themes/theme1/bg.png', profile_background_tile=False, profile_image_url='http://pbs.twimg.com/profile_images/1205226947346722817/veJLfnPs_normal.jpg', profile_image_url_https='https://pbs.twimg.com/profile_images/1205226947346722817/veJLfnPs_normal.jpg', profile_banner_url='https://pbs.twimg.com/profile_banners/44196397/1576183471', profile_link_color='0084B4', profile_sidebar_border_color='C0DEED', profile_sidebar_fill_color='DDEEF6', profile_text_color='333333', profile_use_background_image=True, has_extended_profile=True, default_profile=False, default_profile_image=False, can_media_tag=True, followed_by=False, following=False, follow_request_sent=False, notifications=False, translator_type='none')"
     },
     "metadata": {},
     "execution_count": 7
    }
   ],
   "metadata": {},
   "execution_count": 7
  },
  {
   "source": [
    "AUTH = tweepy.OAuthHandler(TWITTER_CONSUMER_API_KEY, TWITTER_CONSUMER_API_SECRET)\n",
    "AUTH.set_access_token(TWITTER_ACCESS_TOKEN, TWITTER_ACCESS_TOKEN_SECRET)\n",
    "TWITTER = tweepy.API(AUTH)\n",
    "BASILICA = basilica.Connection(BASILICA_KEY)"
   ],
   "cell_type": "code",
   "outputs": [],
   "metadata": {},
   "execution_count": 5
  },
  {
   "source": [
    "twitter_user.followers()"
   ],
   "cell_type": "code",
   "outputs": [
    {
     "output_type": "execute_result",
     "data": {
      "text/plain": "ce': {'id': '3b77caf94bfc81fe', 'url': 'https://api.twitter.com/1.1/geo/id/3b77caf94bfc81fe.json', 'place_type': 'city', 'name': 'Los Angeles', 'full_name': 'Los Angeles, CA', 'country_code': 'US', 'country': 'United States', 'contained_within': [], 'bounding_box': {'type': 'Polygon', 'coordinates': [[[-118.668404, 33.704538], [-118.155409, 33.704538], [-118.155409, 34.337041], [-118.668404, 34.337041]]]}, 'attributes': {}}, 'contributors': None, 'is_quote_status': False, 'retweet_count': 1, 'favorite_count': 16, 'favorited': False, 'retweeted': False, 'possibly_sensitive': False, 'lang': 'en'}, created_at=datetime.datetime(2019, 12, 14, 22, 38, 55), id=1205980516001841152, id_str='1205980516001841152', text='Why Mankind NEEDS Cryptocurrency This Decade\\nhttps://t.co/fkKi7UEUCp', truncated=False, entities={'hashtags': [], 'symbols': [], 'user_mentions': [], 'urls': [{'url': 'https://t.co/fkKi7UEUCp', 'expanded_url': 'https://youtu.be/ejKxeRm391Y', 'display_url': 'youtu.be/ejKxeRm391Y', 'indices': [45, 68]}]}, source='Twitter for Android', source_url='http://twitter.com/download/android', in_reply_to_status_id=None, in_reply_to_status_id_str=None, in_reply_to_user_id=None, in_reply_to_user_id_str=None, in_reply_to_screen_name=None, geo=None, coordinates=None, place=Place(_api=<tweepy.api.API object at 0x0000018BD44564C8>, id='3b77caf94bfc81fe', url='https://api.twitter.com/1.1/geo/id/3b77caf94bfc81fe.json', place_type='city', name='Los Angeles', full_name='Los Angeles, CA', country_code='US', country='United States', contained_within=[], bounding_box=BoundingBox(_api=<tweepy.api.API object at 0x0000018BD44564C8>, type='Polygon', coordinates=[[[-118.668404, 33.704538], [-118.155409, 33.704538], [-118.155409, 34.337041], [-118.668404, 34.337041]]]), attributes={}), contributors=None, is_quote_status=False, retweet_count=1, favorite_count=16, favorited=False, retweeted=False, possibly_sensitive=False, lang='en'), is_quote_status=False, retweet_count=1, favorite_count=0, favorited=False, retweeted=False, possibly_sensitive=False, lang='en'), contributors_enabled=False, is_translator=False, is_translation_enabled=True, profile_background_color='990000', profile_background_image_url='http://abs.twimg.com/images/themes/theme7/bg.gif', profile_background_image_url_https='https://abs.twimg.com/images/themes/theme7/bg.gif', profile_background_tile=False, profile_image_url='http://pbs.twimg.com/profile_images/1206653864600100864/SbEjTn4j_normal.jpg', profile_image_url_https='https://pbs.twimg.com/profile_images/1206653864600100864/SbEjTn4j_normal.jpg', profile_banner_url='https://pbs.twimg.com/profile_banners/913044554/1576523584', profile_link_color='FAB81E', profile_sidebar_border_color='000000', profile_sidebar_fill_color='000000', profile_text_color='000000', profile_use_background_image=True, has_extended_profile=True, default_profile=False, default_profile_image=False, can_media_tag=False, followed_by=False, following=False, live_following=False, follow_request_sent=False, notifications=False, muting=False, blocking=False, blocked_by=False, translator_type='none'),\n User(_api=<tweepy.api.API object at 0x0000018BD44564C8>, _json={'id': 1207075369498619904, 'id_str': '1207075369498619904', 'name': 'Alper', 'screen_name': 'Alper44791689', 'location': '', 'description': 'Embedded Systems Designer @Walkovr', 'url': None, 'entities': {'description': {'urls': []}}, 'protected': False, 'followers_count': 0, 'friends_count': 1, 'listed_count': 0, 'created_at': 'Tue Dec 17 23:09:39 +0000 2019', 'favourites_count': 0, 'utc_offset': None, 'time_zone': None, 'geo_enabled': False, 'verified': False, 'statuses_count': 0, 'lang': None, 'contributors_enabled': False, 'is_translator': False, 'is_translation_enabled': False, 'profile_background_color': 'F5F8FA', 'profile_background_image_url': None, 'profile_background_image_url_https': None, 'profile_background_tile': False, 'profile_image_url': 'http://pbs.twimg.com/profile_images/1207075540349456385/GIAEt27c_normal.jpg', 'profile_image_url_https': 'https://pbs.twimg.com/profile_images/1207075540349456385/GIAEt27c_normal.jpg', 'profile_link_color': '1DA1F2', 'profile_sidebar_border_color': 'C0DEED', 'profile_sidebar_fill_color': 'DDEEF6', 'profile_text_color': '333333', 'profile_use_background_image': True, 'has_extended_profile': False, 'default_profile': True, 'default_profile_image': False, 'can_media_tag': True, 'followed_by': False, 'following': False, 'live_following': False, 'follow_request_sent': False, 'notifications': False, 'muting': False, 'blocking': False, 'blocked_by': False, 'translator_type': 'none'}, id=1207075369498619904, id_str='1207075369498619904', name='Alper', screen_name='Alper44791689', location='', description='Embedded Systems Designer @Walkovr', url=None, entities={'description': {'urls': []}}, protected=False, followers_count=0, friends_count=1, listed_count=0, created_at=datetime.datetime(2019, 12, 17, 23, 9, 39), favourites_count=0, utc_offset=None, time_zone=None, geo_enabled=False, verified=False, statuses_count=0, lang=None, contributors_enabled=False, is_translator=False, is_translation_enabled=False, profile_background_color='F5F8FA', profile_background_image_url=None, profile_background_image_url_https=None, profile_background_tile=False, profile_image_url='http://pbs.twimg.com/profile_images/1207075540349456385/GIAEt27c_normal.jpg', profile_image_url_https='https://pbs.twimg.com/profile_images/1207075540349456385/GIAEt27c_normal.jpg', profile_link_color='1DA1F2', profile_sidebar_border_color='C0DEED', profile_sidebar_fill_color='DDEEF6', profile_text_color='333333', profile_use_background_image=True, has_extended_profile=False, default_profile=True, default_profile_image=False, can_media_tag=True, followed_by=False, following=False, live_following=False, follow_request_sent=False, notifications=False, muting=False, blocking=False, blocked_by=False, translator_type='none'),\n User(_api=<tweepy.api.API object at 0x0000018BD44564C8>, _json={'id': 1207069969122516993, 'id_str': '1207069969122516993', 'name': 'DerMutig69', 'screen_name': 'mutig69', 'location': '', 'description': \"I'm just a normal guy in Twitter\", 'url': None, 'entities': {'description': {'urls': []}}, 'protected': False, 'followers_count': 0, 'friends_count': 51, 'listed_count': 0, 'created_at': 'Tue Dec 17 22:48:22 +0000 2019', 'favourites_count': 0, 'utc_offset': None, 'time_zone': None, 'geo_enabled': False, 'verified': False, 'statuses_count': 0, 'lang': None, 'contributors_enabled': False, 'is_translator': False, 'is_translation_enabled': False, 'profile_background_color': 'F5F8FA', 'profile_background_image_url': None, 'profile_background_image_url_https': None, 'profile_background_tile': False, 'profile_image_url': 'http://pbs.twimg.com/profile_images/1207070486582177793/MleexWxf_normal.jpg', 'profile_image_url_https': 'https://pbs.twimg.com/profile_images/1207070486582177793/MleexWxf_normal.jpg', 'profile_link_color': '1DA1F2', 'profile_sidebar_border_color': 'C0DEED', 'profile_sidebar_fill_color': 'DDEEF6', 'profile_text_color': '333333', 'profile_use_background_image': True, 'has_extended_profile': False, 'default_profile': True, 'default_profile_image': False, 'can_media_tag': True, 'followed_by': False, 'following': False, 'live_following': False, 'follow_request_sent': False, 'notifications': False, 'muting': False, 'blocking': False, 'blocked_by': False, 'translator_type': 'none'}, id=1207069969122516993, id_str='1207069969122516993', name='DerMutig69', screen_name='mutig69', location='', description=\"I'm just a normal guy in Twitter\", url=None, entities={'description': {'urls': []}}, protected=False, followers_count=0, friends_count=51, listed_count=0, created_at=datetime.datetime(2019, 12, 17, 22, 48, 22), favourites_count=0, utc_offset=None, time_zone=None, geo_enabled=False, verified=False, statuses_count=0, lang=None, contributors_enabled=False, is_translator=False, is_translation_enabled=False, profile_background_color='F5F8FA', profile_background_image_url=None, profile_background_image_url_https=None, profile_background_tile=False, profile_image_url='http://pbs.twimg.com/profile_images/1207070486582177793/MleexWxf_normal.jpg', profile_image_url_https='https://pbs.twimg.com/profile_images/1207070486582177793/MleexWxf_normal.jpg', profile_link_color='1DA1F2', profile_sidebar_border_color='C0DEED', profile_sidebar_fill_color='DDEEF6', profile_text_color='333333', profile_use_background_image=True, has_extended_profile=False, default_profile=True, default_profile_image=False, can_media_tag=True, followed_by=False, following=False, live_following=False, follow_request_sent=False, notifications=False, muting=False, blocking=False, blocked_by=False, translator_type='none'),\n User(_api=<tweepy.api.API object at 0x0000018BD44564C8>, _json={'id': 1207082818284617728, 'id_str': '1207082818284617728', 'name': 'Edward Cheng', 'screen_name': 'EdwardC73001366', 'location': '', 'description': \"I'm gay I dont like girls\", 'url': None, 'entities': {'description': {'urls': []}}, 'protected': False, 'followers_count': 0, 'friends_count': 3, 'listed_count': 0, 'created_at': 'Tue Dec 17 23:39:15 +0000 2019', 'favourites_count': 0, 'utc_offset': None, 'time_zone': None, 'geo_enabled': False, 'verified': False, 'statuses_count': 0, 'lang': None, 'contributors_enabled': False, 'is_translator': False, 'is_translation_enabled': False, 'profile_background_color': 'F5F8FA', 'profile_background_image_url': None, 'profile_background_image_url_https': None, 'profile_background_tile': False, 'profile_image_url': 'http://pbs.twimg.com/profile_images/1207083061797515264/OSTUWbem_normal.jpg', 'profile_image_url_https': 'https://pbs.twimg.com/profile_images/1207083061797515264/OSTUWbem_normal.jpg', 'profile_link_color': '1DA1F2', 'profile_sidebar_border_color': 'C0DEED', 'profile_sidebar_fill_color': 'DDEEF6', 'profile_text_color': '333333', 'profile_use_background_image': True, 'has_extended_profile': True, 'default_profile': True, 'default_profile_image': False, 'can_media_tag': True, 'followed_by': False, 'following': False, 'live_following': False, 'follow_request_sent': False, 'notifications': False, 'muting': False, 'blocking': False, 'blocked_by': False, 'translator_type': 'none'}, id=1207082818284617728, id_str='1207082818284617728', name='Edward Cheng', screen_name='EdwardC73001366', location='', description=\"I'm gay I dont like girls\", url=None, entities={'description': {'urls': []}}, protected=False, followers_count=0, friends_count=3, listed_count=0, created_at=datetime.datetime(2019, 12, 17, 23, 39, 15), favourites_count=0, utc_offset=None, time_zone=None, geo_enabled=False, verified=False, statuses_count=0, lang=None, contributors_enabled=False, is_translator=False, is_translation_enabled=False, profile_background_color='F5F8FA', profile_background_image_url=None, profile_background_image_url_https=None, profile_background_tile=False, profile_image_url='http://pbs.twimg.com/profile_images/1207083061797515264/OSTUWbem_normal.jpg', profile_image_url_https='https://pbs.twimg.com/profile_images/1207083061797515264/OSTUWbem_normal.jpg', profile_link_color='1DA1F2', profile_sidebar_border_color='C0DEED', profile_sidebar_fill_color='DDEEF6', profile_text_color='333333', profile_use_background_image=True, has_extended_profile=True, default_profile=True, default_profile_image=False, can_media_tag=True, followed_by=False, following=False, live_following=False, follow_request_sent=False, notifications=False, muting=False, blocking=False, blocked_by=False, translator_type='none'),\n User(_api=<tweepy.api.API object at 0x0000018BD44564C8>, _json={'id': 1207082815570857984, 'id_str': '1207082815570857984', 'name': 'icababiea11@gmail.com', 'screen_name': 'icababiea11', 'location': '', 'description': '', 'url': None, 'entities': {'description': {'urls': []}}, 'protected': False, 'followers_count': 0, 'friends_count': 119, 'listed_count': 0, 'created_at': 'Tue Dec 17 23:39:10 +0000 2019', 'favourites_count': 0, 'utc_offset': None, 'time_zone': None, 'geo_enabled': False, 'verified': False, 'statuses_count': 0, 'lang': None, 'contributors_enabled': False, 'is_translator': False, 'is_translation_enabled': False, 'profile_background_color': 'F5F8FA', 'profile_background_image_url': None, 'profile_background_image_url_https': None, 'profile_background_tile': False, 'profile_image_url': 'http://abs.twimg.com/sticky/default_profile_images/default_profile_normal.png', 'profile_image_url_https': 'https://abs.twimg.com/sticky/default_profile_images/default_profile_normal.png', 'profile_link_color': '1DA1F2', 'profile_sidebar_border_color': 'C0DEED', 'profile_sidebar_fill_color': 'DDEEF6', 'profile_text_color': '333333', 'profile_use_background_image': True, 'has_extended_profile': False, 'default_profile': True, 'default_profile_image': True, 'can_media_tag': True, 'followed_by': False, 'following': False, 'live_following': False, 'follow_request_sent': False, 'notifications': False, 'muting': False, 'blocking': False, 'blocked_by': False, 'translator_type': 'none'}, id=1207082815570857984, id_str='1207082815570857984', name='icababiea11@gmail.com', screen_name='icababiea11', location='', description='', url=None, entities={'description': {'urls': []}}, protected=False, followers_count=0, friends_count=119, listed_count=0, created_at=datetime.datetime(2019, 12, 17, 23, 39, 10), favourites_count=0, utc_offset=None, time_zone=None, geo_enabled=False, verified=False, statuses_count=0, lang=None, contributors_enabled=False, is_translator=False, is_translation_enabled=False, profile_background_color='F5F8FA', profile_background_image_url=None, profile_background_image_url_https=None, profile_background_tile=False, profile_image_url='http://abs.twimg.com/sticky/default_profile_images/default_profile_normal.png', profile_image_url_https='https://abs.twimg.com/sticky/default_profile_images/default_profile_normal.png', profile_link_color='1DA1F2', profile_sidebar_border_color='C0DEED', profile_sidebar_fill_color='DDEEF6', profile_text_color='333333', profile_use_background_image=True, has_extended_profile=False, default_profile=True, default_profile_image=True, can_media_tag=True, followed_by=False, following=False, live_following=False, follow_request_sent=False, notifications=False, muting=False, blocking=False, blocked_by=False, translator_type='none'),\n User(_api=<tweepy.api.API object at 0x0000018BD44564C8>, _json={'id': 1198067836045987840, 'id_str': '1198067836045987840', 'name': 'simon echavarria', 'screen_name': 'SimonEchavarria', 'location': '', 'description': '', 'url': None, 'entities': {'description': {'urls': []}}, 'protected': False, 'followers_count': 1, 'friends_count': 28, 'listed_count': 0, 'created_at': 'Sat Nov 23 02:37:01 +0000 2019', 'favourites_count': 0, 'utc_offset': None, 'time_zone': None, 'geo_enabled': False, 'verified': False, 'statuses_count': 0, 'lang': None, 'contributors_enabled': False, 'is_translator': False, 'is_translation_enabled': False, 'profile_background_color': 'F5F8FA', 'profile_background_image_url': None, 'profile_background_image_url_https': None, 'profile_background_tile': False, 'profile_image_url': 'http://pbs.twimg.com/profile_images/1198068678224424960/yqyy0hn0_normal.jpg', 'profile_image_url_https': 'https://pbs.twimg.com/profile_images/1198068678224424960/yqyy0hn0_normal.jpg', 'profile_link_color': '1DA1F2', 'profile_sidebar_border_color': 'C0DEED', 'profile_sidebar_fill_color': 'DDEEF6', 'profile_text_color': '333333', 'profile_use_background_image': True, 'has_extended_profile': True, 'default_profile': True, 'default_profile_image': False, 'can_media_tag': True, 'followed_by': False, 'following': False, 'live_following': False, 'follow_request_sent': False, 'notifications': False, 'muting': False, 'blocking': False, 'blocked_by': False, 'translator_type': 'none'}, id=1198067836045987840, id_str='1198067836045987840', name='simon echavarria', screen_name='SimonEchavarria', location='', description='', url=None, entities={'description': {'urls': []}}, protected=False, followers_count=1, friends_count=28, listed_count=0, created_at=datetime.datetime(2019, 11, 23, 2, 37, 1), favourites_count=0, utc_offset=None, time_zone=None, geo_enabled=False, verified=False, statuses_count=0, lang=None, contributors_enabled=False, is_translator=False, is_translation_enabled=False, profile_background_color='F5F8FA', profile_background_image_url=None, profile_background_image_url_https=None, profile_background_tile=False, profile_image_url='http://pbs.twimg.com/profile_images/1198068678224424960/yqyy0hn0_normal.jpg', profile_image_url_https='https://pbs.twimg.com/profile_images/1198068678224424960/yqyy0hn0_normal.jpg', profile_link_color='1DA1F2', profile_sidebar_border_color='C0DEED', profile_sidebar_fill_color='DDEEF6', profile_text_color='333333', profile_use_background_image=True, has_extended_profile=True, default_profile=True, default_profile_image=False, can_media_tag=True, followed_by=False, following=False, live_following=False, follow_request_sent=False, notifications=False, muting=False, blocking=False, blocked_by=False, translator_type='none'),\n User(_api=<tweepy.api.API object at 0x0000018BD44564C8>, _json={'id': 1207082416508043265, 'id_str': '1207082416508043265', 'name': 'Jeremy', 'screen_name': 'Jeremy51831943', 'location': '', 'description': '', 'url': None, 'entities': {'description': {'urls': []}}, 'protected': False, 'followers_count': 0, 'friends_count': 117, 'listed_count': 0, 'created_at': 'Tue Dec 17 23:37:39 +0000 2019', 'favourites_count': 0, 'utc_offset': None, 'time_zone': None, 'geo_enabled': False, 'verified': False, 'statuses_count': 0, 'lang': None, 'contributors_enabled': False, 'is_translator': False, 'is_translation_enabled': False, 'profile_background_color': 'F5F8FA', 'profile_background_image_url': None, 'profile_background_image_url_https': None, 'profile_background_tile': False, 'profile_image_url': 'http://abs.twimg.com/sticky/default_profile_images/default_profile_normal.png', 'profile_image_url_https': 'https://abs.twimg.com/sticky/default_profile_images/default_profile_normal.png', 'profile_link_color': '1DA1F2', 'profile_sidebar_border_color': 'C0DEED', 'profile_sidebar_fill_color': 'DDEEF6', 'profile_text_color': '333333', 'profile_use_background_image': True, 'has_extended_profile': True, 'default_profile': True, 'default_profile_image': True, 'can_media_tag': True, 'followed_by': False, 'following': False, 'live_following': False, 'follow_request_sent': False, 'notifications': False, 'muting': False, 'blocking': False, 'blocked_by': False, 'translator_type': 'none'}, id=1207082416508043265, id_str='1207082416508043265', name='Jeremy', screen_name='Jeremy51831943', location='', description='', url=None, entities={'description': {'urls': []}}, protected=False, followers_count=0, friends_count=117, listed_count=0, created_at=datetime.datetime(2019, 12, 17, 23, 37, 39), favourites_count=0, utc_offset=None, time_zone=None, geo_enabled=False, verified=False, statuses_count=0, lang=None, contributors_enabled=False, is_translator=False, is_translation_enabled=False, profile_background_color='F5F8FA', profile_background_image_url=None, profile_background_image_url_https=None, profile_background_tile=False, profile_image_url='http://abs.twimg.com/sticky/default_profile_images/default_profile_normal.png', profile_image_url_https='https://abs.twimg.com/sticky/default_profile_images/default_profile_normal.png', profile_link_color='1DA1F2', profile_sidebar_border_color='C0DEED', profile_sidebar_fill_color='DDEEF6', profile_text_color='333333', profile_use_background_image=True, has_extended_profile=True, default_profile=True, default_profile_image=True, can_media_tag=True, followed_by=False, following=False, live_following=False, follow_request_sent=False, notifications=False, muting=False, blocking=False, blocked_by=False, translator_type='none')]"
     },
     "metadata": {},
     "execution_count": 10
    }
   ],
   "metadata": {},
   "execution_count": 10
  },
  {
   "source": [
    "tweets = twitter_user.timeline()\n",
    "for i in range(0,10):\n",
    "    print(tweets[i].text)"
   ],
   "cell_type": "code",
   "outputs": [
    {
     "output_type": "stream",
     "name": "stdout",
     "text": "@AlexSibila @Tesla Some good ideas here!\n@SpaceX Telemetry indicates soft touchdown on the water, so fairing might still be reusable\n@SpaceX Sigh …\nRT @SpaceX: About 45 minutes after liftoff, Ms. Tree and Ms. Chief will attempt to catch the fairing halves https://t.co/lTEkEvwx6P\nRT @SpaceX: Webcast of Falcon 9 launch now live  https://t.co/KMQtL0sGDd\n@flcnhvy @Kristennetten Possibly Excession, but I’d recommend reading Player of Games &amp; Surface Detail first. They’re all great.\n@Kristennetten Yes\nhttps://t.co/LxZAmZIcIS\nhttps://t.co/aAEFph9G6D\n@bluemoondance74 @ThugsAndMiracle @tfspeakcies @DearHistorians @DeepintoHistory @HellenisticPod @TrueConsPod… https://t.co/YbG3BCsEOV\n"
    }
   ],
   "metadata": {},
   "execution_count": 18
  },
  {
   "source": [
    "tweets[10].text"
   ],
   "cell_type": "code",
   "outputs": [
    {
     "output_type": "execute_result",
     "data": {
      "text/plain": "'@ThugsAndMiracle @tfspeakcies @DearHistorians @DeepintoHistory @HellenisticPod @TrueConsPod @IWBpodcast @Coffincast… https://t.co/AD3NPS81qM'"
     },
     "metadata": {},
     "execution_count": 20
    }
   ],
   "metadata": {},
   "execution_count": 20
  },
  {
   "source": [
    "tweets = twitter_user.timeline(count=100, exclude_replies=True, include_rts=False, tweet_mode='extended')"
   ],
   "cell_type": "code",
   "outputs": [],
   "metadata": {},
   "execution_count": 32
  },
  {
   "source": [
    "len(tweets)"
   ],
   "cell_type": "code",
   "outputs": [
    {
     "output_type": "execute_result",
     "data": {
      "text/plain": "14"
     },
     "metadata": {},
     "execution_count": 34
    }
   ],
   "metadata": {},
   "execution_count": 34
  },
  {
   "source": [
    "tweets[0].full_text"
   ],
   "cell_type": "code",
   "outputs": [
    {
     "output_type": "execute_result",
     "data": {
      "text/plain": "'https://t.co/aAEFph9G6D'"
     },
     "metadata": {},
     "execution_count": 37
    }
   ],
   "metadata": {},
   "execution_count": 37
  },
  {
   "source": [
    "embedding = BASILICA.embed_sentence(tweets[0].full_text, model='twitter')\n",
    "embedding"
   ],
   "cell_type": "code",
   "outputs": [
    {
     "output_type": "execute_result",
     "data": {
      "text/plain": "[-0.0870684,\n -0.179988,\n 1.42672,\n -0.505246,\n 1.32192,\n 0.218891,\n 0.397049,\n -0.301849,\n -0.193802,\n -0.234948,\n -0.610955,\n 0.42749,\n -0.435187,\n -0.228036,\n -1.02151,\n -0.335694,\n 0.415116,\n -0.304258,\n 0.223252,\n -0.253722,\n -0.246904,\n -0.583551,\n -0.514542,\n -0.746666,\n 0.399999,\n -0.420262,\n 0.649756,\n -0.645262,\n -0.410135,\n -0.595815,\n 0.867408,\n -0.0307405,\n -0.267216,\n 0.944829,\n -0.56601,\n -0.178465,\n -0.511335,\n -0.142471,\n 0.426247,\n -0.0206787,\n 0.216727,\n 0.172475,\n 0.118632,\n -1.05279,\n -0.768479,\n 0.549685,\n -2.30506,\n 0.0480108,\n -0.460593,\n 0.371781,\n -0.705393,\n 0.250193,\n -0.0990769,\n 0.189038,\n 1.08578,\n 0.3303,\n 0.0991139,\n -0.279894,\n -1.07558,\n 0.31239,\n 0.359672,\n 0.572569,\n 0.56648,\n -0.293906,\n -0.0168206,\n 0.124031,\n 0.458415,\n 0.506214,\n -0.718927,\n 0.16605,\n 0.0835871,\n -0.229593,\n -0.260577,\n 0.36121,\n 0.137682,\n 0.282463,\n 0.170128,\n 0.23512,\n -0.0321535,\n 0.800269,\n 0.00796418,\n -0.818595,\n 0.444613,\n -0.270162,\n -0.41444,\n -0.528233,\n 0.418728,\n 0.383361,\n 0.0980282,\n 0.509995,\n -0.289948,\n -0.436773,\n 0.485848,\n 0.222388,\n 0.469142,\n -0.710666,\n -0.623222,\n -0.627316,\n 0.517293,\n -1.29232,\n -1.31629,\n -1.51259,\n 0.107842,\n 0.37003,\n 0.346071,\n 0.11274,\n -0.00164978,\n 0.819672,\n -0.528614,\n -0.38992,\n -0.108941,\n -0.0317222,\n -0.382734,\n -0.685661,\n 0.091002,\n 0.206201,\n -0.239063,\n -0.255545,\n 0.288301,\n -0.0992747,\n 0.176145,\n 0.243979,\n 0.780679,\n 0.000966075,\n 0.869018,\n 0.124403,\n -0.297799,\n -0.408325,\n -0.78469,\n 0.341972,\n 0.889375,\n 0.2173,\n -0.478812,\n 0.448639,\n -0.129727,\n -0.0544669,\n -0.595821,\n 0.33029,\n -0.165213,\n 0.629399,\n 0.268391,\n 0.37733,\n -1.80447,\n 0.692336,\n -0.771091,\n -0.328005,\n 0.167656,\n -0.394032,\n -0.369412,\n 0.339738,\n 0.333395,\n 1.1946,\n -0.0326508,\n 0.0877344,\n -0.0488808,\n 1.08009,\n 0.49272,\n 0.511554,\n -1.22502,\n -0.537477,\n 0.374441,\n 0.270752,\n -0.301585,\n -0.684537,\n 0.201473,\n -0.11489,\n -0.399504,\n -0.0489912,\n 0.275077,\n -0.228348,\n 0.135694,\n -0.942693,\n 0.206494,\n 0.944765,\n -0.238514,\n 0.0493167,\n 0.347567,\n 0.846797,\n 0.601048,\n 0.234722,\n -0.696703,\n -0.18901,\n -0.875989,\n 0.18468,\n 0.561709,\n -0.400445,\n 0.541374,\n 0.31735,\n 0.979092,\n -0.230972,\n 0.152201,\n 0.878626,\n 0.75983,\n -0.558213,\n 0.197582,\n -0.515094,\n -0.943574,\n -0.399657,\n 0.632802,\n -0.118665,\n 0.361203,\n 0.808335,\n 0.47295,\n 0.17113,\n 0.14282,\n 1.15243,\n -0.318485,\n -0.467477,\n 0.725958,\n -0.095859,\n -0.556067,\n 0.0894023,\n 0.453639,\n -0.91443,\n 0.0947272,\n -0.619776,\n -0.388082,\n -0.140172,\n 0.491111,\n -0.0431198,\n 0.878597,\n 0.756741,\n -0.249343,\n -0.303461,\n -0.277932,\n 1.66536,\n 0.381344,\n -1.19275,\n 0.269328,\n -1.48164,\n -0.277163,\n -0.470344,\n 0.53071,\n -0.563895,\n 0.42787,\n -0.217387,\n 0.154379,\n -0.5335,\n 0.919163,\n 0.0590711,\n 0.110496,\n -0.469297,\n 0.0618684,\n 0.645656,\n 0.175728,\n 0.121265,\n 0.206142,\n 0.551411,\n -0.525073,\n -0.511649,\n -0.0972376,\n -0.128496,\n -0.333639,\n 0.153288,\n 0.14326,\n -0.405937,\n -0.502705,\n -0.628408,\n 0.641548,\n 1.09375,\n -0.758992,\n 0.697843,\n -0.44555,\n -0.366736,\n -0.189746,\n 0.0110273,\n -0.0931818,\n -1.10561,\n 0.278561,\n 0.34053,\n -0.0558421,\n 0.426547,\n -0.560832,\n -0.764163,\n 0.426606,\n -0.166292,\n 0.703195,\n 0.757142,\n 0.0474149,\n -0.0126728,\n -0.340006,\n 0.267147,\n 0.772326,\n 0.68351,\n 0.460102,\n -0.0363212,\n 0.378246,\n -1.15413,\n -0.0107105,\n 0.0680968,\n 0.118312,\n 1.10367,\n 0.992445,\n -1.00229,\n 0.572316,\n -0.319624,\n -0.0296485,\n 1.15577,\n -0.749424,\n -0.424376,\n -0.459773,\n 0.038442,\n 0.305646,\n 0.177971,\n 0.453398,\n -0.510229,\n -0.288806,\n 0.399872,\n -4.5077,\n -0.385707,\n 0.432775,\n 0.346912,\n -0.0806405,\n 0.20234,\n 0.69664,\n -0.397233,\n 0.47469,\n -0.305968,\n 0.280356,\n -0.139614,\n 0.434464,\n -0.0568889,\n 0.202452,\n -0.977396,\n -0.309448,\n -0.196463,\n -0.418193,\n 0.402366,\n -0.299208,\n -0.98858,\n 0.21087,\n 0.0836615,\n -0.15566,\n 0.00441046,\n -0.695136,\n 0.307577,\n -0.236259,\n -0.877827,\n 0.0920584,\n -0.543925,\n -0.550817,\n 0.101884,\n 0.946934,\n -0.291615,\n 0.457941,\n -0.0951459,\n 1.2467,\n -0.675159,\n 0.0893694,\n 1.12402,\n -0.458619,\n -0.454747,\n 0.362823,\n 0.0555326,\n 0.547724,\n -0.436446,\n -1.0151,\n 0.537603,\n -0.200268,\n -0.525239,\n 0.642074,\n -0.120496,\n 0.0703122,\n 0.244213,\n 0.641435,\n 0.634691,\n -0.0323975,\n -0.0823278,\n -0.331074,\n -0.108855,\n 0.159271,\n 0.00352593,\n -1.33172,\n 0.225865,\n 0.383068,\n 0.00576163,\n 0.394165,\n -0.260349,\n -0.898426,\n 0.0280824,\n 0.0122367,\n -1.31911,\n -0.424934,\n -0.302307,\n -0.0937198,\n -0.793648,\n -0.371349,\n -0.960283,\n -0.651928,\n -0.132073,\n 0.311268,\n -0.0869759,\n 0.424577,\n -0.760019,\n 0.408404,\n 0.106079,\n 0.0966659,\n 0.32348,\n 0.576603,\n -0.265248,\n -0.582909,\n 0.745687,\n 0.415952,\n 0.346578,\n 0.810429,\n -0.345147,\n -0.236831,\n -0.0708324,\n -0.0607911,\n -0.183841,\n -0.15199,\n 0.196618,\n 0.138625,\n -1.18673,\n 0.935842,\n -0.101436,\n 0.219896,\n -0.167319,\n -0.358275,\n 0.192977,\n -0.540226,\n 0.00340113,\n 0.858552,\n 0.0894906,\n 0.188068,\n -0.424763,\n 0.61448,\n -1.32845,\n -0.623411,\n 0.123906,\n 0.0892851,\n -0.803229,\n 0.430368,\n 0.450806,\n -1.15372,\n -0.652162,\n 0.514852,\n 0.914014,\n -0.0495459,\n 0.441304,\n -0.0453433,\n 0.354135,\n -0.00784699,\n -0.23341,\n -0.811047,\n -0.375695,\n 0.0325643,\n 0.065926,\n -0.327388,\n 0.29725,\n 0.600194,\n 0.434323,\n 0.560485,\n -0.163347,\n -0.265764,\n -0.105696,\n 0.544807,\n 0.000901915,\n 0.369711,\n -0.187436,\n -0.344076,\n 0.257559,\n -0.358688,\n 0.167904,\n 0.559234,\n -0.0327573,\n 0.187303,\n 0.318412,\n -0.538339,\n -0.234947,\n -1.81166,\n -0.568867,\n -0.312792,\n 1.30089,\n 0.255098,\n -0.351553,\n 0.154021,\n -0.349792,\n -0.243819,\n -0.643807,\n -0.342336,\n 1.40622,\n 0.64537,\n 0.153556,\n 0.0410654,\n -0.371467,\n -0.322988,\n 1.42273,\n 0.251128,\n -0.0167583,\n -0.372203,\n 0.973369,\n -0.598832,\n -0.673131,\n 0.146336,\n -0.17032,\n 0.323828,\n 0.429643,\n 0.252975,\n 0.0405967,\n 1.00674,\n -0.302673,\n 0.44524,\n 0.768379,\n 0.818268,\n 0.967151,\n 0.270841,\n 0.682728,\n -1.12033,\n -1.05596,\n -0.631582,\n -0.219043,\n 0.117844,\n -0.652758,\n 0.68354,\n -0.0612724,\n -0.532595,\n -1.80322,\n -0.380818,\n -0.312636,\n -0.205131,\n -1.17701,\n -0.659233,\n 0.201944,\n -0.455729,\n 0.321536,\n 0.00996328,\n -0.276684,\n 0.395238,\n -0.261858,\n 0.369455,\n -0.0368664,\n 0.954369,\n 0.632463,\n 0.141976,\n -0.571074,\n -0.538959,\n 0.336683,\n -0.1227,\n -0.373131,\n -0.00218235,\n -0.478558,\n 0.518698,\n -0.925159,\n -1.06122,\n 0.0755951,\n -0.267051,\n -0.386907,\n 0.239379,\n -0.940634,\n -0.12765,\n -0.0821665,\n -1.24395,\n -0.238831,\n 0.195264,\n -0.359622,\n 0.561057,\n 0.99834,\n 0.0334932,\n 0.891182,\n 0.560394,\n 0.293552,\n -0.139132,\n -0.00272211,\n 0.244895,\n -0.190228,\n 0.405873,\n 0.286237,\n -0.220043,\n -0.250177,\n 0.249389,\n 0.307137,\n 0.415843,\n 0.802941,\n 0.802318,\n 0.465341,\n 0.392917,\n -0.375553,\n -0.398249,\n -0.315267,\n -0.653759,\n 1.71935,\n -0.0599331,\n -0.197955,\n -0.646401,\n -0.376363,\n -0.032204,\n 0.214088,\n 0.206197,\n 0.154978,\n -0.828443,\n -0.0715148,\n -0.48992,\n 0.458376,\n 1.08531,\n 0.241725,\n 0.447009,\n 0.0251338,\n -0.150797,\n 0.234131,\n -0.354488,\n 0.0289986,\n -0.354927,\n -0.419716,\n -0.41806,\n -0.207972,\n 0.249368,\n -0.0312801,\n -0.182339,\n 0.0500754,\n 0.79003,\n 0.467077,\n -0.539153,\n 0.261322,\n -0.729087,\n -0.0298602,\n -0.174949,\n 0.45159,\n 0.975103,\n -0.87381,\n 0.105912,\n 0.500199,\n -0.703393,\n -0.0724842,\n -0.611882,\n -0.807158,\n -0.129471,\n -0.427095,\n 0.0501233,\n 0.375762,\n 0.838262,\n -0.716417,\n 0.819589,\n 0.470308,\n 0.376612,\n -0.497246,\n -0.157305,\n -0.506527,\n -0.0927354,\n -0.0734313,\n -0.134313,\n 0.0384681,\n 0.274082,\n -0.339097,\n -0.359151,\n 0.511797,\n -0.13593,\n 0.932643,\n -0.163306,\n 0.0330571,\n -0.06471,\n 0.623155,\n 0.0669424,\n 0.0216734,\n -0.875898,\n 0.359706,\n -1.32417,\n 0.73046,\n 0.297174,\n 0.76885,\n 0.179014,\n -0.334313,\n 0.376938,\n -0.0247949,\n 1.15253,\n 0.22284,\n 0.610637,\n 0.126621,\n 0.548888,\n 0.620028,\n 0.0370567,\n -0.066093,\n -0.179456,\n 0.945139,\n 0.989148,\n -0.167509,\n -0.657826,\n -0.437543,\n 0.0753511,\n 0.632269,\n -1.1051,\n -0.162161,\n 0.00601388,\n 0.689772,\n -0.532106,\n 0.101444,\n 0.096333,\n -0.418041,\n 0.0512319,\n -1.40172,\n -0.0994158,\n 0.348149,\n 0.424929,\n -0.506388,\n 0.632503,\n 0.107833,\n -0.641025,\n -0.278078,\n -0.236759,\n -0.080804,\n -0.292128,\n 0.0992782,\n -0.912081,\n 0.0608409,\n -0.629974,\n 0.394062,\n 0.818686,\n -0.559487,\n 0.33091,\n 0.16319,\n 0.279096,\n 0.590073,\n -0.0466672,\n 0.778863,\n 0.425869,\n -0.145957,\n -0.81009,\n -0.1782,\n 0.769375,\n 0.373222,\n -0.496506,\n 0.881516,\n -0.27577,\n 0.0186137,\n -0.580355,\n 0.43633,\n -0.190405,\n -0.82897,\n 0.124105,\n -0.00842358,\n 0.593686,\n -0.0818353,\n 0.575141,\n 0.0706533,\n -0.315725,\n -0.17715,\n -0.140483,\n 0.583288,\n 0.138202,\n 0.713984,\n 0.01075,\n 0.315268,\n -0.293933,\n -0.132768,\n 0.731206,\n -0.0488473,\n 0.569175,\n 0.328189,\n -1.13783,\n 0.992311,\n 0.0157816,\n -0.0104764,\n -2.42761,\n -0.530795,\n -0.283429,\n 0.727698,\n -0.839263,\n 0.363484,\n 0.518363,\n -0.369919,\n -0.607555,\n -0.661704,\n 0.434586,\n -0.748614,\n -1.05911,\n 0.451736,\n 0.487786,\n 0.180629]"
     },
     "metadata": {},
     "execution_count": 40
    }
   ],
   "metadata": {},
   "execution_count": 40
  },
  {
   "cell_type": "code",
   "execution_count": null,
   "metadata": {},
   "outputs": [],
   "source": [
    "def add_user()sername:\n",
    "\n",
    "    # Get twitter user data from tweepy API\n",
    "    twitter_user = TWITTER.get_user(username)\n",
    "\n",
    "    # Add user info to user table db    \n",
    "db_user = User(id=twitter_user.id, name=twitter_user.screen_name)\n",
    "    DB.session.add(db_user)    "
   ]
  },
  {
   "source": [
    "twitter_user.id"
   ],
   "cell_type": "code",
   "outputs": [
    {
     "output_type": "execute_result",
     "data": {
      "text/plain": "44196397"
     },
     "metadata": {},
     "execution_count": 8
    }
   ],
   "metadata": {},
   "execution_count": 8
  }
 ]
}